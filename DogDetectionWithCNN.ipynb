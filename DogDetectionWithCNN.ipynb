{
  "nbformat": 4,
  "nbformat_minor": 0,
  "metadata": {
    "colab": {
      "name": "DogForTest.ipynb",
      "provenance": [],
      "collapsed_sections": [],
      "authorship_tag": "ABX9TyOHCGwgUwp+EkhMsvfMW1H/",
      "include_colab_link": true
    },
    "kernelspec": {
      "name": "python3",
      "display_name": "Python 3"
    },
    "accelerator": "GPU"
  },
  "cells": [
    {
      "cell_type": "markdown",
      "metadata": {
        "id": "view-in-github",
        "colab_type": "text"
      },
      "source": [
        "<a href=\"https://colab.research.google.com/github/chevamikado/ImageClassificationCNN/blob/master/DogDetectionWithCNN.ipynb\" target=\"_parent\"><img src=\"https://colab.research.google.com/assets/colab-badge.svg\" alt=\"Open In Colab\"/></a>"
      ]
    },
    {
      "cell_type": "code",
      "metadata": {
        "id": "CrZMKKxMNeLt",
        "colab_type": "code",
        "colab": {}
      },
      "source": [
        "import os\n",
        "import cv2\n",
        "import numpy as np\n",
        "import matplotlib.pyplot as plt\n",
        "import time\n",
        "import zipfile\n",
        "import pandas as pd\n",
        "import tensorflow as tf\n",
        "import matplotlib.pyplot as plt\n",
        "from tensorflow import keras # Tensorflow high-level api\n",
        "from tensorflow.keras import layers\n",
        "from keras.models import load_model\n",
        "from keras import optimizers\n",
        "from keras.optimizers import Adam\n",
        "from keras.regularizers import l2\n",
        "from keras.models import Model, Sequential\n",
        "from keras.layers import Dense,Flatten, GlobalAveragePooling2D, BatchNormalization, Activation, Dropout, Conv2D,MaxPooling2D\n",
        "from keras.callbacks import ModelCheckpoint, EarlyStopping, TensorBoard, CSVLogger, ReduceLROnPlateau\n",
        "#from keras.layers import Activation, Dropout, Flatten, Dense\n",
        "from keras.applications.xception import Xception\n",
        "from keras.preprocessing.image import ImageDataGenerator"
      ],
      "execution_count": null,
      "outputs": []
    },
    {
      "cell_type": "code",
      "metadata": {
        "id": "sfnCflbeNjsT",
        "colab_type": "code",
        "colab": {}
      },
      "source": [
        "!pip install kaggle"
      ],
      "execution_count": null,
      "outputs": []
    },
    {
      "cell_type": "code",
      "metadata": {
        "id": "V82S-0g5NlQV",
        "colab_type": "code",
        "colab": {}
      },
      "source": [
        "from google.colab import files"
      ],
      "execution_count": null,
      "outputs": []
    },
    {
      "cell_type": "code",
      "metadata": {
        "id": "sietcIjaNmzo",
        "colab_type": "code",
        "colab": {}
      },
      "source": [
        "files.upload()"
      ],
      "execution_count": null,
      "outputs": []
    },
    {
      "cell_type": "code",
      "metadata": {
        "id": "3Op9NE3RNofb",
        "colab_type": "code",
        "colab": {}
      },
      "source": [
        "#before importing the dataset we want to use this code\n",
        "# The Kaggle API client expects this file to be in ~/.kaggle,\n",
        "!mkdir -p ~/.kaggle\n",
        "!cp kaggle.json ~/.kaggle/\n",
        "\n",
        "# This permissions change avoids a warning on Kaggle tool startup.\n",
        "!chmod 600 ~/.kaggle/kaggle.json"
      ],
      "execution_count": null,
      "outputs": []
    },
    {
      "cell_type": "code",
      "metadata": {
        "id": "XeFw89kvNtPV",
        "colab_type": "code",
        "colab": {}
      },
      "source": [
        "!kaggle datasets download -d jessicali9530/stanford-dogs-dataset"
      ],
      "execution_count": null,
      "outputs": []
    },
    {
      "cell_type": "code",
      "metadata": {
        "id": "sW-8c3ieNvf7",
        "colab_type": "code",
        "colab": {}
      },
      "source": [
        "local_zip = '/content/stanford-dogs-dataset.zip'\n",
        "zip_ref = zipfile.ZipFile(local_zip, 'r')\n",
        "zip_ref.extractall('/content/stanford-dogs')\n",
        "zip_ref.close()"
      ],
      "execution_count": null,
      "outputs": []
    },
    {
      "cell_type": "code",
      "metadata": {
        "id": "NDAlhksJNxcb",
        "colab_type": "code",
        "colab": {}
      },
      "source": [
        "train_data = []\n",
        "train_labels = []\n",
        "test_data = []\n",
        "test_labels = []\n",
        "im_width = 128\n",
        "im_height = 128\n",
        "num_classes = 120"
      ],
      "execution_count": null,
      "outputs": []
    },
    {
      "cell_type": "code",
      "metadata": {
        "id": "8fL5JCxCNzNZ",
        "colab_type": "code",
        "colab": {}
      },
      "source": [
        "##Function to preprocess the data\n",
        "def preProcessTrainData(path):\n",
        "    i = 0\n",
        "    progress = 0\n",
        "    folders = [f for f in os.listdir(path)]\n",
        "    for folder in folders:\n",
        "        image_files = [f for f in os.listdir(path+folder)]\n",
        "        for file_name in image_files:\n",
        "            image_file = str(path + folder+'/' +file_name)\n",
        "        \n",
        "            img = cv2.imread(image_file,cv2.IMREAD_GRAYSCALE)\n",
        "            new_img = cv2.resize(img,(im_width,im_height))\n",
        "            train_data.append(new_img)\n",
        "            progress = progress+1\n",
        "        \n",
        "            train_labels.append(i)\n",
        "        \n",
        "            if progress%1000==0:\n",
        "                print('Progress '+str(progress)+' Image done')\n",
        "        i = i + 1"
      ],
      "execution_count": null,
      "outputs": []
    },
    {
      "cell_type": "code",
      "metadata": {
        "id": "ZyqUiUToN08A",
        "colab_type": "code",
        "colab": {}
      },
      "source": [
        "print(os.listdir(\"./stanford-dogs\"))"
      ],
      "execution_count": null,
      "outputs": []
    },
    {
      "cell_type": "code",
      "metadata": {
        "id": "Poq2H46SN3CM",
        "colab_type": "code",
        "colab": {}
      },
      "source": [
        "preProcessTrainData(\"./stanford-dogs/images/Images/\")"
      ],
      "execution_count": null,
      "outputs": []
    },
    {
      "cell_type": "code",
      "metadata": {
        "id": "DyXobR3LN4fi",
        "colab_type": "code",
        "colab": {}
      },
      "source": [
        "train_data = np.array(train_data)\n",
        "print(train_data.shape)"
      ],
      "execution_count": null,
      "outputs": []
    },
    {
      "cell_type": "code",
      "metadata": {
        "id": "7fJwmwHoN55K",
        "colab_type": "code",
        "colab": {}
      },
      "source": [
        "train_labels = np.array(train_labels)\n",
        "train_labels.shape"
      ],
      "execution_count": null,
      "outputs": []
    },
    {
      "cell_type": "code",
      "metadata": {
        "id": "L65ZbtyqN7Ms",
        "colab_type": "code",
        "colab": {}
      },
      "source": [
        "train_data = train_data.reshape((train_data.shape)[0],(train_data.shape)[1],(train_data.shape)[2],1)\n",
        "train_data.astype('float32')\n",
        "train_data = train_data/255.0\n",
        "print(train_data.shape)"
      ],
      "execution_count": null,
      "outputs": []
    },
    {
      "cell_type": "code",
      "metadata": {
        "id": "KJQ6vdgtN8Q7",
        "colab_type": "code",
        "colab": {}
      },
      "source": [
        "train_labels.astype('uint8')\n",
        "#test_labels.astype('uint8')\n",
        "train_labels = keras.utils.to_categorical(train_labels, num_classes)\n",
        "#test_labels = keras.utils.to_categorical(test_labels, num_classes)"
      ],
      "execution_count": null,
      "outputs": []
    },
    {
      "cell_type": "code",
      "metadata": {
        "id": "jW8cr5moN9kn",
        "colab_type": "code",
        "colab": {}
      },
      "source": [
        "def shuffle(a, b):\n",
        "    rng_state = np.random.get_state()\n",
        "    np.random.shuffle(a)\n",
        "    np.random.set_state(rng_state)\n",
        "    np.random.shuffle(b)"
      ],
      "execution_count": null,
      "outputs": []
    },
    {
      "cell_type": "code",
      "metadata": {
        "id": "wipgP0_2N-tm",
        "colab_type": "code",
        "colab": {}
      },
      "source": [
        "for i in range(10):\n",
        "    shuffle(train_data,train_labels)"
      ],
      "execution_count": null,
      "outputs": []
    },
    {
      "cell_type": "code",
      "metadata": {
        "id": "zIcy6oY7OABK",
        "colab_type": "code",
        "colab": {}
      },
      "source": [
        "model = Sequential()\n",
        "model.add(Conv2D(16,(3,3), input_shape=(128,128,1), activation=\"relu\"))\n",
        "model.add(Conv2D(16,(3,3), activation=\"relu\"))\n",
        "model.add(MaxPooling2D(pool_size=(2,2)))\n",
        "model.add(BatchNormalization())\n",
        "\n",
        "model.add(Conv2D(32,(3,3),  activation=\"relu\",padding=\"same\"))\n",
        "model.add(Conv2D(32,(3,3),  activation=\"relu\",padding=\"same\"))\n",
        "model.add(MaxPooling2D(pool_size=(2,2)))\n",
        "model.add(BatchNormalization())\n",
        "\n",
        "model.add(Conv2D(64,(3,3),  activation=\"relu\",padding=\"same\"))\n",
        "model.add(Conv2D(64,(3,3),  activation=\"relu\"))\n",
        "model.add(MaxPooling2D(pool_size=(2,2)))\n",
        "model.add(BatchNormalization())\n",
        "  \n",
        "model.add(Flatten())\n",
        "model.add(Dense(500, activation=\"relu\"))\n",
        "##model.add(Dropout(0.5))\n",
        "model.add(Dense(250, activation=\"relu\"))\n",
        "model.add(Dropout(0.5))\n",
        "model.add(Dense(120, activation=\"softmax\"))\n",
        "model.compile(Adam(lr=0.001), loss = \"categorical_crossentropy\", metrics = [\"accuracy\"])"
      ],
      "execution_count": null,
      "outputs": []
    },
    {
      "cell_type": "code",
      "metadata": {
        "id": "MNe0WP_oT-y_",
        "colab_type": "code",
        "colab": {}
      },
      "source": [
        "##model = load_model(\"myModelForTest2.h5\")"
      ],
      "execution_count": null,
      "outputs": []
    },
    {
      "cell_type": "code",
      "metadata": {
        "id": "YwdUwn1iOmSb",
        "colab_type": "code",
        "colab": {}
      },
      "source": [
        "history = model.fit(train_data, train_labels,\n",
        "          batch_size=64,\n",
        "          epochs=100,\n",
        "          verbose=1, shuffle = True,validation_split=0.20)"
      ],
      "execution_count": null,
      "outputs": []
    },
    {
      "cell_type": "code",
      "metadata": {
        "id": "5YWCoFC-OoPa",
        "colab_type": "code",
        "colab": {}
      },
      "source": [
        "uplt.plot(history.history['loss'])\n",
        "plt.plot(history.history['val_loss'])\n",
        "plt.title('Model Loss')\n",
        "plt.ylabel('Loss')\n",
        "plt.xlabel('Epoch')\n",
        "plt.legend(['train', 'test'], loc='upper right')\n",
        "plt.show()"
      ],
      "execution_count": null,
      "outputs": []
    },
    {
      "cell_type": "code",
      "metadata": {
        "id": "YIl7ufeNTMSj",
        "colab_type": "code",
        "colab": {}
      },
      "source": [
        "##model.save(\"myModelForTest2.h5\")"
      ],
      "execution_count": null,
      "outputs": []
    },
    {
      "cell_type": "code",
      "metadata": {
        "id": "OJ6zG-8eTRaI",
        "colab_type": "code",
        "colab": {}
      },
      "source": [
        "plt.plot(history.history['accuracy'])\n",
        "plt.title('Accuracy')\n",
        "plt.ylabel('Accuracy')\n",
        "plt.xlabel('Epoch')\n",
        "plt.legend(['accuracy'], loc='upper right')\n",
        "plt.show()"
      ],
      "execution_count": null,
      "outputs": []
    },
    {
      "cell_type": "code",
      "metadata": {
        "id": "XNi0icJTTTJH",
        "colab_type": "code",
        "colab": {}
      },
      "source": [
        ""
      ],
      "execution_count": null,
      "outputs": []
    }
  ]
}