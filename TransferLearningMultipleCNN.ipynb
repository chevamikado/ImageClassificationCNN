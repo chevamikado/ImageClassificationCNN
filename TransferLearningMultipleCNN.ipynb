{
  "nbformat": 4,
  "nbformat_minor": 0,
  "metadata": {
    "colab": {
      "name": "TransferLearningMultipleCNN.ipynb",
      "provenance": [],
      "collapsed_sections": [],
      "authorship_tag": "ABX9TyP4ZdIHYBevBizrd+MvXiJb",
      "include_colab_link": true
    },
    "kernelspec": {
      "name": "python3",
      "display_name": "Python 3"
    },
    "accelerator": "GPU"
  },
  "cells": [
    {
      "cell_type": "markdown",
      "metadata": {
        "id": "view-in-github",
        "colab_type": "text"
      },
      "source": [
        "<a href=\"https://colab.research.google.com/github/chevamikado/ImageClassificationCNN/blob/master/TransferLearningMultipleCNN.ipynb\" target=\"_parent\"><img src=\"https://colab.research.google.com/assets/colab-badge.svg\" alt=\"Open In Colab\"/></a>"
      ]
    },
    {
      "cell_type": "code",
      "metadata": {
        "id": "u1LeEZWaIN56",
        "colab_type": "code",
        "colab": {}
      },
      "source": [
        "## Author: Muhammed Zahid Bozkus\n",
        "## Lecture: INF003 - Deep Neural Networks"
      ],
      "execution_count": null,
      "outputs": []
    },
    {
      "cell_type": "code",
      "metadata": {
        "id": "ISs6Zhl9aRN2",
        "colab_type": "code",
        "colab": {}
      },
      "source": [
        "## Import Libraries\n",
        "\n",
        "import os\n",
        "import datetime as dt\n",
        "import zipfile\n",
        "import matplotlib.pyplot as plt\n",
        "import matplotlib.image as mpimg\n",
        "import tensorflow as tf\n",
        "\n",
        "from tensorflow.keras import backend as K\n",
        "from tensorflow.keras.preprocessing.image import ImageDataGenerator\n",
        "from tensorflow.keras.applications.mobilenet_v2 import MobileNetV2, preprocess_input, decode_predictions\n",
        "from tensorflow.keras.applications.inception_v3 import InceptionV3\n",
        "from tensorflow.keras.applications.vgg16 import VGG16\n",
        "from tensorflow.keras.applications.resnet50 import ResNet50\n",
        "from tensorflow.keras.applications.resnet_v2 import ResNet152V2\n",
        "from tensorflow.keras.models import *\n",
        "from tensorflow.keras.layers import *\n",
        "from tensorflow.keras.optimizers import *\n",
        "from tensorflow.keras.utils import *\n",
        "from tensorflow.keras.callbacks import *\n",
        "from tensorflow.keras.initializers import *\n",
        "from sklearn.model_selection import train_test_split\n",
        "from sklearn.metrics import plot_confusion_matrix\n",
        "from sklearn.metrics import classification_report, confusion_matrix\n",
        "\n",
        "import pandas as pd\n",
        "import numpy as np\n",
        "import seaborn as sn\n",
        "import itertools  \n",
        "\n",
        "from PIL import Image\n",
        "import xml.etree.ElementTree as ET\n",
        "import psutil\n",
        "import random"
      ],
      "execution_count": null,
      "outputs": []
    },
    {
      "cell_type": "code",
      "metadata": {
        "id": "V-1Z5huJlmI4",
        "colab_type": "code",
        "colab": {}
      },
      "source": [
        "## Specify sonme parameters\n",
        "\n",
        "targetx = 224\n",
        "targety = 224\n",
        "learning_rate = 0.0001\n",
        "classes = 120\n",
        "seed = random.randint(1, 1000)"
      ],
      "execution_count": null,
      "outputs": []
    },
    {
      "cell_type": "code",
      "metadata": {
        "id": "8_Rel1o4c17l",
        "colab_type": "code",
        "colab": {}
      },
      "source": [
        "## Install the Kaggle API\n",
        "\n",
        "!pip install kaggle"
      ],
      "execution_count": null,
      "outputs": []
    },
    {
      "cell_type": "code",
      "metadata": {
        "id": "BX2QShCCbsCw",
        "colab_type": "code",
        "colab": {}
      },
      "source": [
        "## Mount the drive to colab notebook\n",
        "\n",
        "from google.colab import files"
      ],
      "execution_count": null,
      "outputs": []
    },
    {
      "cell_type": "code",
      "metadata": {
        "id": "CMrJfL-ybtGf",
        "colab_type": "code",
        "colab": {}
      },
      "source": [
        "## Upload your Kaggle API Token\n",
        "\n",
        "files.upload()"
      ],
      "execution_count": null,
      "outputs": []
    },
    {
      "cell_type": "code",
      "metadata": {
        "id": "fQgrVhQjbt-o",
        "colab_type": "code",
        "colab": {}
      },
      "source": [
        "## Before importing the dataset we want to use this code\n",
        "## The Kaggle API client expects this file to be in ~/.kaggle\n",
        "\n",
        "!mkdir -p ~/.kaggle\n",
        "!cp kaggle.json ~/.kaggle/\n",
        "\n",
        "# This permissions change avoids a warning on Kaggle tool startup.\n",
        "\n",
        "!chmod 600 ~/.kaggle/kaggle.json"
      ],
      "execution_count": null,
      "outputs": []
    },
    {
      "cell_type": "code",
      "metadata": {
        "id": "nyvnaUaEbxRe",
        "colab_type": "code",
        "colab": {}
      },
      "source": [
        "## Download the dataset from Kaggle\n",
        "\n",
        "!kaggle datasets download -d miljan/stanford-dogs-dataset-traintest"
      ],
      "execution_count": null,
      "outputs": []
    },
    {
      "cell_type": "code",
      "metadata": {
        "id": "o61vWrgSbywo",
        "colab_type": "code",
        "colab": {}
      },
      "source": [
        "## Unzip the dataset\n",
        "\n",
        "local_zip = '/content/stanford-dogs-dataset-traintest.zip'\n",
        "zip_ref = zipfile.ZipFile(local_zip, 'r')\n",
        "zip_ref.extractall('/content/stanford-dogs')\n",
        "zip_ref.close()"
      ],
      "execution_count": null,
      "outputs": []
    },
    {
      "cell_type": "code",
      "metadata": {
        "id": "E-vu4Vodbz-F",
        "colab_type": "code",
        "colab": {}
      },
      "source": [
        "## Paths for the train set and test set\n",
        "\n",
        "train_data_dir = os.path.join(\"/content\", \"stanford-dogs\", \"cropped\", \"train\")\n",
        "test_data_dir = os.path.join(\"/content\", \"stanford-dogs\", \"cropped\", \"test\")"
      ],
      "execution_count": null,
      "outputs": []
    },
    {
      "cell_type": "code",
      "metadata": {
        "id": "O-n3XlQvI4Xp",
        "colab_type": "code",
        "colab": {}
      },
      "source": [
        "## Specify width-height for images and batch size\n",
        "\n",
        "img_width, img_height = 128, 128\n",
        "batch_size = 32"
      ],
      "execution_count": null,
      "outputs": []
    },
    {
      "cell_type": "code",
      "metadata": {
        "id": "5savxRMEcKT4",
        "colab_type": "code",
        "colab": {}
      },
      "source": [
        "## Generate batches of tensor image data with real-time data augmentation\n",
        "\n",
        "train_datagen = ImageDataGenerator(\n",
        "        shear_range=0.1,\n",
        "        zoom_range=0.1,\n",
        "        brightness_range=[0.9,1.1],\n",
        "        horizontal_flip=True,\n",
        "        validation_split=0.5,\n",
        "        preprocessing_function=preprocess_input\n",
        ")"
      ],
      "execution_count": null,
      "outputs": []
    },
    {
      "cell_type": "code",
      "metadata": {
        "id": "ZweYaR9YcdRc",
        "colab_type": "code",
        "colab": {}
      },
      "source": [
        "## Generate bundle of augmented data. In the end we have a generator for the train, validation and test sets. \n",
        "\n",
        "train_generator = train_datagen.flow_from_directory(\n",
        "        train_data_dir,\n",
        "        target_size=(img_height, img_width),\n",
        "        batch_size=batch_size,\n",
        "        class_mode='categorical',    # 2D one-hot encoded labels (batch_size x 101)\n",
        "       )\n",
        "validation_generator = train_datagen.flow_from_directory(\n",
        "        test_data_dir,\n",
        "        target_size=(img_height, img_width),\n",
        "        batch_size=batch_size,\n",
        "        class_mode='categorical',    # 2D one-hot encoded labels (batch_size x 101)\n",
        "        subset='training')\n",
        "test_generator = train_datagen.flow_from_directory(\n",
        "        test_data_dir,\n",
        "        target_size=(img_height, img_width),\n",
        "        batch_size=1,\n",
        "        class_mode='categorical',\n",
        "        subset='validation')"
      ],
      "execution_count": null,
      "outputs": []
    },
    {
      "cell_type": "code",
      "metadata": {
        "id": "dQN6FhpYdZw6",
        "colab_type": "code",
        "colab": {}
      },
      "source": [
        "##  Specify callbacks\n",
        "\n",
        "checkpoint = ModelCheckpoint('bestWeightsTL.h5',\n",
        "                             monitor='val_accuracy',\n",
        "                             save_best_only=True,\n",
        "                             verbose=1,\n",
        "                             mode='auto',\n",
        "                             save_weights_only=False,\n",
        "                             period=1)\n",
        "\n",
        "earlystop = EarlyStopping(monitor='val_accuracy',\n",
        "                          min_delta=.0001,\n",
        "                          patience=20,\n",
        "                          verbose=1,\n",
        "                          mode='auto',\n",
        "                          baseline=None,\n",
        "                          restore_best_weights=True)\n",
        "\n",
        "reducelr = ReduceLROnPlateau(monitor='val_accuracy',\n",
        "                             factor=np.sqrt(.1),\n",
        "                             patience=5,\n",
        "                             verbose=1,\n",
        "                             mode='auto',\n",
        "                             min_delta=.0001,\n",
        "                             cooldown=0,\n",
        "                             min_lr=0.0000001)\n"
      ],
      "execution_count": null,
      "outputs": []
    },
    {
      "cell_type": "code",
      "metadata": {
        "id": "rbgwnzJkcks1",
        "colab_type": "code",
        "colab": {}
      },
      "source": [
        "## Assign model to be used and add the output layers. \n",
        "\n",
        "base_model = MobileNetV2(include_top=False, weights='imagenet', input_shape=(targetx, targety, 3))\n",
        "\n",
        "## Uncomment following to assign another architecture\n",
        "## base_model = InceptionV3(include_top=False, weights='imagenet', input_shape=(targetx, targety, 3))\n",
        "## base_model = VGG16(include_top=False, weights='imagenet', input_shape=(targetx, targety, 3))\n",
        "\n",
        "for layer in base_model.layers:\n",
        "    layer.trainable = False\n",
        "\n",
        "x = base_model.output\n",
        "x = GlobalAveragePooling2D()(x)\n",
        "# x = Dropout(rate = .2)(x)\n",
        "x = BatchNormalization()(x)\n",
        "x = Dense(1280, activation='relu',  kernel_initializer=glorot_uniform(seed), bias_initializer='zeros')(x)\n",
        "# x = Dropout(rate = .2)(x)\n",
        "x = BatchNormalization()(x)\n",
        "predictions = Dense(classes, activation='softmax', kernel_initializer='random_uniform', bias_initializer='zeros')(x)\n",
        "\n",
        "model = Model(inputs=base_model.input, outputs=predictions)\n",
        "\n",
        "## Specify optimizer \n",
        "\n",
        "optimizer = Adam(lr=learning_rate)\n",
        "\n",
        "## Specify loss function\n",
        "loss = \"categorical_crossentropy\"\n",
        "\n",
        "## Compile the model\n",
        "\n",
        "model.compile(optimizer=optimizer,\n",
        "              loss=loss,\n",
        "              metrics=[\"accuracy\"])\n",
        "\n",
        "## Summary of the model\n",
        "\n",
        "model.summary()"
      ],
      "execution_count": null,
      "outputs": []
    },
    {
      "cell_type": "code",
      "metadata": {
        "id": "0FwLoaQ0bTAw",
        "colab_type": "code",
        "colab": {}
      },
      "source": [
        "## Convert the Keras model to dot format and save to a file\n",
        "\n",
        "tf.keras.utils.plot_model(\n",
        "    base_model,\n",
        "    to_file=\"model.png\",\n",
        "    show_shapes=False,\n",
        "    show_layer_names=True,\n",
        "    rankdir=\"TB\",\n",
        "    expand_nested=False,\n",
        "    dpi=96,\n",
        ")"
      ],
      "execution_count": null,
      "outputs": []
    },
    {
      "cell_type": "code",
      "metadata": {
        "id": "IM0A2S43dJf4",
        "colab_type": "code",
        "colab": {}
      },
      "source": [
        "## Start training the model\n",
        "\n",
        "params = model.fit_generator(generator=train_generator, \n",
        "                                steps_per_epoch=len(train_generator), \n",
        "                                validation_data=validation_generator, \n",
        "                                validation_steps=len(validation_generator),\n",
        "                                epochs=10,\n",
        "                                callbacks=[earlystop, checkpoint, reducelr])"
      ],
      "execution_count": null,
      "outputs": []
    },
    {
      "cell_type": "code",
      "metadata": {
        "id": "b1BGfkQgqazC",
        "colab_type": "code",
        "colab": {}
      },
      "source": [
        "## Load saved weights\n",
        "\n",
        "model.load_weights('bestWeightsTL.h5')"
      ],
      "execution_count": null,
      "outputs": []
    },
    {
      "cell_type": "code",
      "metadata": {
        "id": "Ir4Ze12qqncU",
        "colab_type": "code",
        "colab": {}
      },
      "source": [
        "## Evaluate the model with the test set\n",
        "\n",
        "loss, accuracy = model.evaluate(test_generator)\n",
        "\n",
        "print(\"Test set loss: \", loss)\n",
        "print(\"Test set accuracy: \", accuracy)"
      ],
      "execution_count": null,
      "outputs": []
    },
    {
      "cell_type": "code",
      "metadata": {
        "id": "1Kx1Hn4YNDZc",
        "colab_type": "code",
        "colab": {}
      },
      "source": [
        "## Plot accuracy for the train set and validation set\n",
        "\n",
        "plt.plot(params.history['accuracy'])\n",
        "plt.plot(params.history['val_accuracy'])\n",
        "plt.ylabel('Accuracy')\n",
        "plt.xlabel('Epoch')\n",
        "plt.legend(['Train', \"Validation\"], loc='upper right')\n",
        "plt.show()"
      ],
      "execution_count": null,
      "outputs": []
    },
    {
      "cell_type": "code",
      "metadata": {
        "id": "_hQZP9fzddgT",
        "colab_type": "code",
        "colab": {}
      },
      "source": [
        "## Plot loss for the train set and validation set\n",
        "\n",
        "plt.plot(params.history['loss'])\n",
        "plt.plot(params.history['val_loss'])\n",
        "plt.ylabel('Loss')\n",
        "plt.xlabel('Epoch')\n",
        "plt.legend(['Train', 'Validation'], loc='upper right')\n",
        "plt.show()"
      ],
      "execution_count": null,
      "outputs": []
    },
    {
      "cell_type": "code",
      "metadata": {
        "id": "UuCAvGRRtr36",
        "colab_type": "code",
        "colab": {}
      },
      "source": [
        ""
      ],
      "execution_count": null,
      "outputs": []
    }
  ]
}